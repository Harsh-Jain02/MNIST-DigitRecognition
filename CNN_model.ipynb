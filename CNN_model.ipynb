{
 "cells": [
  {
   "cell_type": "code",
   "execution_count": 2,
   "metadata": {},
   "outputs": [],
   "source": [
    "import torch\n",
    "from torch import nn\n",
    "from torch.utils.data import DataLoader\n",
    "\n",
    "from torchvision import datasets\n",
    "from torchvision.transforms import ToTensor\n",
    "\n",
    "import matplotlib.pyplot as plt\n",
    "import numpy as np\n",
    "\n",
    "import time"
   ]
  },
  {
   "cell_type": "code",
   "execution_count": 3,
   "metadata": {},
   "outputs": [],
   "source": [
    "train_data = datasets.MNIST(\n",
    "    root = \"data\",\n",
    "    download = True,\n",
    "    train = True,\n",
    "    transform = ToTensor()    \n",
    ")\n",
    "test_data = datasets.MNIST(\n",
    "    root = \"data\",\n",
    "    download = True,\n",
    "    train = False,\n",
    "    transform = ToTensor()    \n",
    ")"
   ]
  },
  {
   "cell_type": "code",
   "execution_count": 3,
   "metadata": {},
   "outputs": [],
   "source": [
    "def fit(model, train_data, test_data, loss_fn, opti, device):\n",
    "    model.train()\n",
    "\n",
    "    ret = []\n",
    "\n",
    "    total = len(train_data.dataset)\n",
    "    correct = 0\n",
    "    loss = 0\n",
    "    \n",
    "    for X, y in train_data:\n",
    "        X, y = X.to(device), y.to(device)\n",
    "        y_hat = model(X)\n",
    "\n",
    "        L = loss_fn(y_hat, y)\n",
    "        loss += L.item()\n",
    "        L.backward()\n",
    "        correct += (y_hat.argmax(1) == y).type(torch.float).sum().item()\n",
    "\n",
    "        opti.step()\n",
    "        opti.zero_grad()\n",
    "    loss /= len(train_data)\n",
    "    ret.extend([loss, correct/total*100])\n",
    "\n",
    "    model.eval()\n",
    "\n",
    "    total = len(test_data.dataset)\n",
    "    correct = 0\n",
    "    loss = 0\n",
    "\n",
    "    with torch.no_grad():   \n",
    "        for X, y in test_data:\n",
    "            X, y = X.to(device), y.to(device)\n",
    "            y_hat = model(X)\n",
    "\n",
    "            L = loss_fn(y_hat, y)\n",
    "            loss += L.item()\n",
    "            correct += (y_hat.argmax(1) == y).type(torch.float).sum().item()\n",
    "\n",
    "    loss /= len(test_data)\n",
    "    ret.extend([loss, correct/total*100])\n",
    "\n",
    "    return ret"
   ]
  },
  {
   "cell_type": "code",
   "execution_count": 4,
   "metadata": {},
   "outputs": [
    {
     "name": "stdout",
     "output_type": "stream",
     "text": [
      "Model(\n",
      "  (convStack): Sequential(\n",
      "    (0): Conv2d(1, 16, kernel_size=(3, 3), stride=(1, 1))\n",
      "    (1): ReLU()\n",
      "    (2): Conv2d(16, 32, kernel_size=(3, 3), stride=(1, 1))\n",
      "    (3): ReLU()\n",
      "    (4): MaxPool2d(kernel_size=2, stride=2, padding=0, dilation=1, ceil_mode=False)\n",
      "  )\n",
      "  (FC): Sequential(\n",
      "    (0): Linear(in_features=4608, out_features=1024, bias=True)\n",
      "    (1): ReLU()\n",
      "    (2): Linear(in_features=1024, out_features=128, bias=True)\n",
      "    (3): ReLU()\n",
      "    (4): Linear(in_features=128, out_features=10, bias=True)\n",
      "    (5): Softmax(dim=None)\n",
      "  )\n",
      "  (flat): Flatten(start_dim=1, end_dim=-1)\n",
      ")\n"
     ]
    }
   ],
   "source": [
    "class Model(nn.Module):\n",
    "    def __init__(self):\n",
    "        super().__init__()\n",
    "        self.convStack = nn.Sequential(\n",
    "            nn.Conv2d(1, 16, (3, 3)),\n",
    "            nn.ReLU(),\n",
    "            nn.Conv2d(16, 32, (3, 3)),\n",
    "            nn.ReLU(),\n",
    "            nn.MaxPool2d(2)\n",
    "        )\n",
    "        self.FC = nn.Sequential(\n",
    "            nn.Linear(32 * 12 * 12,1024),\n",
    "            nn.ReLU(),\n",
    "            nn.Linear(1024, 128),\n",
    "            nn.ReLU(),\n",
    "            nn.Linear(128, 10),\n",
    "            nn.Softmax()\n",
    "        )\n",
    "        self.flat = nn.Flatten()\n",
    "\n",
    "    def forward(self, x):\n",
    "        x = self.convStack(x)\n",
    "        x = self.flat(x)\n",
    "        x = self.FC(x)\n",
    "        return x\n",
    "\n",
    "\n",
    "device = \"cuda\"\n",
    "model = Model().to(device)\n",
    "print(model)"
   ]
  },
  {
   "cell_type": "code",
   "execution_count": 5,
   "metadata": {},
   "outputs": [],
   "source": [
    "results = []"
   ]
  },
  {
   "cell_type": "code",
   "execution_count": 7,
   "metadata": {},
   "outputs": [
    {
     "name": "stdout",
     "output_type": "stream",
     "text": [
      "0 [2.3023959477742513, 14.875, 2.302357721328735, 14.580000000000002] 10.82\n",
      "1 [2.3023164669672647, 13.485, 2.302277755737305, 12.22] 10.509\n",
      "2 [2.3022384881973266, 11.611666666666668, 2.3021982669830323, 10.95] 10.591\n",
      "3 [2.302160040537516, 10.731666666666667, 2.3021171569824217, 10.31] 10.646\n",
      "4 [2.302078644434611, 10.514999999999999, 2.3020320415496824, 10.83] 11.674\n",
      "5 [2.3019924561182656, 14.280000000000001, 2.3019408226013183, 17.419999999999998] 11.734\n",
      "6 [2.3018993775049847, 19.346666666666668, 2.301841306686401, 20.74] 11.514\n",
      "7 [2.301797310511271, 20.863333333333333, 2.301731586456299, 20.93] 11.474\n",
      "8 [2.3016839106877645, 20.605, 2.3016092777252197, 20.48] 11.5\n",
      "9 [2.301556913057963, 20.006666666666668, 2.3014711856842043, 19.93] 11.665\n",
      "10 [2.3014129002889, 19.365, 2.301313591003418, 19.42] 11.606\n",
      "11 [2.3012471437454223, 18.938333333333333, 2.3011308193206785, 19.02] 12.068\n",
      "12 [2.30105295976003, 18.638333333333335, 2.3009149074554442, 18.85] 11.825\n",
      "13 [2.3008215030034385, 18.490000000000002, 2.300654745101929, 18.790000000000003] 12.092\n",
      "14 [2.300540026028951, 18.53666666666667, 2.3003355979919435, 18.94] 11.777\n",
      "15 [2.300191076596578, 18.675, 2.299936056137085, 19.05] 11.513\n",
      "16 [2.2997449318567913, 18.91333333333333, 2.299411582946777, 19.33] 11.793\n",
      "17 [2.2991449356079103, 19.295, 2.2986987113952635, 19.77] 11.687\n",
      "18 [2.298322598139445, 19.781666666666666, 2.297699451446533, 20.61] 11.699\n",
      "19 [2.2971168915430704, 22.388333333333332, 2.2961755752563477, 25.330000000000002] 11.827\n",
      "20 [2.2952019691467287, 27.316666666666666, 2.293648338317871, 29.720000000000002] 11.66\n",
      "21 [2.291734751065572, 30.776666666666667, 2.288613700866699, 33.23] 11.601\n",
      "22 [2.2832505067189532, 32.29, 2.2731080532073973, 29.64] 11.482\n",
      "23 [2.2416114091873167, 26.511666666666667, 2.1877753257751467, 37.84] 11.565\n",
      "24 [2.0502976536750794, 51.46166666666666, 1.8620659589767456, 68.7] 11.55\n",
      "25 [1.7995177626609802, 71.12833333333334, 1.7226831912994385, 76.44999999999999] 11.734\n",
      "26 [1.708198400338491, 77.27166666666668, 1.6808424234390258, 79.62] 11.675\n",
      "27 [1.6751092553138733, 80.015, 1.6572916984558106, 80.7] 11.813\n",
      "28 [1.6242382129033406, 85.175, 1.6089502096176147, 86.78] 11.718\n",
      "29 [1.59721706310908, 87.58333333333333, 1.5857139348983764, 88.53999999999999] 11.618\n",
      "30 [1.5811681985855102, 88.96, 1.5742271900177003, 89.49000000000001] 12.106\n",
      "31 [1.5706599195798239, 89.815, 1.5694867372512817, 89.71000000000001] 11.919\n",
      "32 [1.5665177623430888, 90.12666666666667, 1.565922474861145, 90.13] 11.791\n",
      "33 [1.5608555833498636, 90.66, 1.5608051776885987, 90.63] 11.807\n",
      "34 [1.558705417315165, 90.85333333333332, 1.557512140274048, 90.89] 12.039\n",
      "35 [1.552928670247396, 91.31666666666666, 1.553221011161804, 91.24] 11.734\n",
      "36 [1.5501605868339539, 91.55666666666666, 1.549117112159729, 91.60000000000001] 11.563\n",
      "37 [1.5470847924550375, 91.85666666666667, 1.5459831476211547, 91.93] 11.488\n",
      "38 [1.5445003271102906, 92.11, 1.5433750391006469, 92.11] 11.55\n",
      "39 [1.5416759292284647, 92.375, 1.5400619983673096, 92.5] 11.848\n",
      "40 [1.5387229959170023, 92.65333333333334, 1.537378764152527, 92.75] 11.833\n",
      "41 [1.5362190802892048, 92.935, 1.5358322143554688, 92.9] 11.659\n",
      "42 [1.5340533177057902, 93.17166666666667, 1.5336905241012573, 93.12] 11.59\n",
      "43 [1.5321203351020813, 93.35833333333333, 1.5318142414093017, 93.23] 11.666\n",
      "44 [1.5303789734840394, 93.52000000000001, 1.5306281566619873, 93.51] 11.602\n",
      "45 [1.5284481008847555, 93.66166666666666, 1.5295048475265502, 93.52000000000001] 11.6\n",
      "46 [1.5264720797538758, 93.88666666666666, 1.5261009454727172, 93.85] 11.64\n",
      "47 [1.5247750163078309, 94.02166666666668, 1.522315788269043, 94.19999999999999] 11.546\n",
      "48 [1.5231193939844767, 94.175, 1.5213435888290405, 94.28] 11.338\n",
      "49 [1.5212754408518474, 94.36333333333333, 1.5226571321487428, 94.11] 11.518\n",
      "50 [1.5197750409444173, 94.52333333333334, 1.5222785711288451, 94.17] 11.802\n",
      "51 [1.5183615525563559, 94.65666666666667, 1.5185141563415527, 94.55] 11.69\n",
      "52 [1.5169543226559956, 94.79333333333332, 1.5162837266921998, 94.74000000000001] 11.859\n",
      "53 [1.5153207381566365, 94.93, 1.5153400659561158, 94.81] 11.478\n",
      "54 [1.513950781027476, 95.06166666666667, 1.513867688179016, 95.03] 11.68\n",
      "55 [1.5126928567886353, 95.19833333333332, 1.5131345510482788, 95.12] 11.468\n",
      "56 [1.5114191850026448, 95.30499999999999, 1.5114902973175048, 95.32000000000001] 11.733\n",
      "57 [1.510231860478719, 95.43333333333334, 1.5116589307785033, 95.33] 11.54\n",
      "58 [1.509187388420105, 95.53333333333333, 1.5101788520812989, 95.41] 10.569\n",
      "59 [1.5082151214281718, 95.62333333333333, 1.5086370944976806, 95.59] 10.541\n",
      "60 [1.5071245034535725, 95.76, 1.5076389551162719, 95.63000000000001] 10.71\n",
      "61 [1.5060380578041077, 95.87666666666667, 1.5062248706817627, 95.77] 11.474\n",
      "62 [1.5050636609395345, 95.965, 1.5054040193557738, 95.81] 11.608\n",
      "63 [1.5041428486506143, 96.04333333333334, 1.508406972885132, 95.5] 11.451\n",
      "64 [1.5031482656796773, 96.14333333333333, 1.5033066272735596, 96.06] 11.569\n",
      "65 [1.5037880698839823, 96.09833333333333, 1.5075222492218017, 95.57] 11.768\n",
      "66 [1.501813038190206, 96.285, 1.5018919944763183, 96.19] 11.558\n",
      "67 [1.5007348934809366, 96.375, 1.5012274265289307, 96.22] 11.442\n",
      "68 [1.499949856599172, 96.45166666666667, 1.5008915185928344, 96.27] 11.519\n",
      "69 [1.4993237296740214, 96.51166666666666, 1.5004139423370362, 96.34] 11.558\n"
     ]
    },
    {
     "ename": "KeyboardInterrupt",
     "evalue": "",
     "output_type": "error",
     "traceback": [
      "\u001b[1;31m---------------------------------------------------------------------------\u001b[0m",
      "\u001b[1;31mKeyboardInterrupt\u001b[0m                         Traceback (most recent call last)",
      "Cell \u001b[1;32mIn[7], line 14\u001b[0m\n\u001b[0;32m     12\u001b[0m \u001b[38;5;28;01mfor\u001b[39;00m _ \u001b[38;5;129;01min\u001b[39;00m \u001b[38;5;28mrange\u001b[39m(epochs):\n\u001b[0;32m     13\u001b[0m     s \u001b[38;5;241m=\u001b[39m time\u001b[38;5;241m.\u001b[39mtime()\n\u001b[1;32m---> 14\u001b[0m     results\u001b[38;5;241m.\u001b[39mappend(\u001b[43mfit\u001b[49m\u001b[43m(\u001b[49m\u001b[43mmodel\u001b[49m\u001b[43m,\u001b[49m\u001b[43mtrain_data_loader\u001b[49m\u001b[43m,\u001b[49m\u001b[43m \u001b[49m\u001b[43mtest_data_loader\u001b[49m\u001b[43m,\u001b[49m\u001b[43m \u001b[49m\u001b[43mloss_fn\u001b[49m\u001b[43m,\u001b[49m\u001b[43m \u001b[49m\u001b[43mopti\u001b[49m\u001b[43m,\u001b[49m\u001b[43m \u001b[49m\u001b[43mdevice\u001b[49m\u001b[43m)\u001b[49m)\n\u001b[0;32m     15\u001b[0m     e \u001b[38;5;241m=\u001b[39m time\u001b[38;5;241m.\u001b[39mtime()\n\u001b[0;32m     16\u001b[0m     e \u001b[38;5;241m=\u001b[39m \u001b[38;5;28mround\u001b[39m(e \u001b[38;5;241m-\u001b[39m s, \u001b[38;5;241m3\u001b[39m)\n",
      "Cell \u001b[1;32mIn[3], line 10\u001b[0m, in \u001b[0;36mfit\u001b[1;34m(model, train_data, test_data, loss_fn, opti, device)\u001b[0m\n\u001b[0;32m      7\u001b[0m correct \u001b[38;5;241m=\u001b[39m \u001b[38;5;241m0\u001b[39m\n\u001b[0;32m      8\u001b[0m loss \u001b[38;5;241m=\u001b[39m \u001b[38;5;241m0\u001b[39m\n\u001b[1;32m---> 10\u001b[0m \u001b[43m\u001b[49m\u001b[38;5;28;43;01mfor\u001b[39;49;00m\u001b[43m \u001b[49m\u001b[43mX\u001b[49m\u001b[43m,\u001b[49m\u001b[43m \u001b[49m\u001b[43my\u001b[49m\u001b[43m \u001b[49m\u001b[38;5;129;43;01min\u001b[39;49;00m\u001b[43m \u001b[49m\u001b[43mtrain_data\u001b[49m\u001b[43m:\u001b[49m\n\u001b[0;32m     11\u001b[0m \u001b[43m    \u001b[49m\u001b[43mX\u001b[49m\u001b[43m,\u001b[49m\u001b[43m \u001b[49m\u001b[43my\u001b[49m\u001b[43m \u001b[49m\u001b[38;5;241;43m=\u001b[39;49m\u001b[43m \u001b[49m\u001b[43mX\u001b[49m\u001b[38;5;241;43m.\u001b[39;49m\u001b[43mto\u001b[49m\u001b[43m(\u001b[49m\u001b[43mdevice\u001b[49m\u001b[43m)\u001b[49m\u001b[43m,\u001b[49m\u001b[43m \u001b[49m\u001b[43my\u001b[49m\u001b[38;5;241;43m.\u001b[39;49m\u001b[43mto\u001b[49m\u001b[43m(\u001b[49m\u001b[43mdevice\u001b[49m\u001b[43m)\u001b[49m\n\u001b[0;32m     12\u001b[0m \u001b[43m    \u001b[49m\u001b[43my_hat\u001b[49m\u001b[43m \u001b[49m\u001b[38;5;241;43m=\u001b[39;49m\u001b[43m \u001b[49m\u001b[43mmodel\u001b[49m\u001b[43m(\u001b[49m\u001b[43mX\u001b[49m\u001b[43m)\u001b[49m\n",
      "File \u001b[1;32mc:\\myInstallations\\Lib\\site-packages\\torch\\utils\\data\\dataloader.py:631\u001b[0m, in \u001b[0;36m_BaseDataLoaderIter.__next__\u001b[1;34m(self)\u001b[0m\n\u001b[0;32m    628\u001b[0m \u001b[38;5;28;01mif\u001b[39;00m \u001b[38;5;28mself\u001b[39m\u001b[38;5;241m.\u001b[39m_sampler_iter \u001b[38;5;129;01mis\u001b[39;00m \u001b[38;5;28;01mNone\u001b[39;00m:\n\u001b[0;32m    629\u001b[0m     \u001b[38;5;66;03m# TODO(https://github.com/pytorch/pytorch/issues/76750)\u001b[39;00m\n\u001b[0;32m    630\u001b[0m     \u001b[38;5;28mself\u001b[39m\u001b[38;5;241m.\u001b[39m_reset()  \u001b[38;5;66;03m# type: ignore[call-arg]\u001b[39;00m\n\u001b[1;32m--> 631\u001b[0m data \u001b[38;5;241m=\u001b[39m \u001b[38;5;28;43mself\u001b[39;49m\u001b[38;5;241;43m.\u001b[39;49m\u001b[43m_next_data\u001b[49m\u001b[43m(\u001b[49m\u001b[43m)\u001b[49m\n\u001b[0;32m    632\u001b[0m \u001b[38;5;28mself\u001b[39m\u001b[38;5;241m.\u001b[39m_num_yielded \u001b[38;5;241m+\u001b[39m\u001b[38;5;241m=\u001b[39m \u001b[38;5;241m1\u001b[39m\n\u001b[0;32m    633\u001b[0m \u001b[38;5;28;01mif\u001b[39;00m \u001b[38;5;28mself\u001b[39m\u001b[38;5;241m.\u001b[39m_dataset_kind \u001b[38;5;241m==\u001b[39m _DatasetKind\u001b[38;5;241m.\u001b[39mIterable \u001b[38;5;129;01mand\u001b[39;00m \\\n\u001b[0;32m    634\u001b[0m         \u001b[38;5;28mself\u001b[39m\u001b[38;5;241m.\u001b[39m_IterableDataset_len_called \u001b[38;5;129;01mis\u001b[39;00m \u001b[38;5;129;01mnot\u001b[39;00m \u001b[38;5;28;01mNone\u001b[39;00m \u001b[38;5;129;01mand\u001b[39;00m \\\n\u001b[0;32m    635\u001b[0m         \u001b[38;5;28mself\u001b[39m\u001b[38;5;241m.\u001b[39m_num_yielded \u001b[38;5;241m>\u001b[39m \u001b[38;5;28mself\u001b[39m\u001b[38;5;241m.\u001b[39m_IterableDataset_len_called:\n",
      "File \u001b[1;32mc:\\myInstallations\\Lib\\site-packages\\torch\\utils\\data\\dataloader.py:675\u001b[0m, in \u001b[0;36m_SingleProcessDataLoaderIter._next_data\u001b[1;34m(self)\u001b[0m\n\u001b[0;32m    673\u001b[0m \u001b[38;5;28;01mdef\u001b[39;00m \u001b[38;5;21m_next_data\u001b[39m(\u001b[38;5;28mself\u001b[39m):\n\u001b[0;32m    674\u001b[0m     index \u001b[38;5;241m=\u001b[39m \u001b[38;5;28mself\u001b[39m\u001b[38;5;241m.\u001b[39m_next_index()  \u001b[38;5;66;03m# may raise StopIteration\u001b[39;00m\n\u001b[1;32m--> 675\u001b[0m     data \u001b[38;5;241m=\u001b[39m \u001b[38;5;28;43mself\u001b[39;49m\u001b[38;5;241;43m.\u001b[39;49m\u001b[43m_dataset_fetcher\u001b[49m\u001b[38;5;241;43m.\u001b[39;49m\u001b[43mfetch\u001b[49m\u001b[43m(\u001b[49m\u001b[43mindex\u001b[49m\u001b[43m)\u001b[49m  \u001b[38;5;66;03m# may raise StopIteration\u001b[39;00m\n\u001b[0;32m    676\u001b[0m     \u001b[38;5;28;01mif\u001b[39;00m \u001b[38;5;28mself\u001b[39m\u001b[38;5;241m.\u001b[39m_pin_memory:\n\u001b[0;32m    677\u001b[0m         data \u001b[38;5;241m=\u001b[39m _utils\u001b[38;5;241m.\u001b[39mpin_memory\u001b[38;5;241m.\u001b[39mpin_memory(data, \u001b[38;5;28mself\u001b[39m\u001b[38;5;241m.\u001b[39m_pin_memory_device)\n",
      "File \u001b[1;32mc:\\myInstallations\\Lib\\site-packages\\torch\\utils\\data\\_utils\\fetch.py:51\u001b[0m, in \u001b[0;36m_MapDatasetFetcher.fetch\u001b[1;34m(self, possibly_batched_index)\u001b[0m\n\u001b[0;32m     49\u001b[0m         data \u001b[38;5;241m=\u001b[39m \u001b[38;5;28mself\u001b[39m\u001b[38;5;241m.\u001b[39mdataset\u001b[38;5;241m.\u001b[39m__getitems__(possibly_batched_index)\n\u001b[0;32m     50\u001b[0m     \u001b[38;5;28;01melse\u001b[39;00m:\n\u001b[1;32m---> 51\u001b[0m         data \u001b[38;5;241m=\u001b[39m [\u001b[38;5;28;43mself\u001b[39;49m\u001b[38;5;241;43m.\u001b[39;49m\u001b[43mdataset\u001b[49m\u001b[43m[\u001b[49m\u001b[43midx\u001b[49m\u001b[43m]\u001b[49m \u001b[38;5;28;01mfor\u001b[39;00m idx \u001b[38;5;129;01min\u001b[39;00m possibly_batched_index]\n\u001b[0;32m     52\u001b[0m \u001b[38;5;28;01melse\u001b[39;00m:\n\u001b[0;32m     53\u001b[0m     data \u001b[38;5;241m=\u001b[39m \u001b[38;5;28mself\u001b[39m\u001b[38;5;241m.\u001b[39mdataset[possibly_batched_index]\n",
      "File \u001b[1;32mc:\\myInstallations\\Lib\\site-packages\\torchvision\\datasets\\mnist.py:146\u001b[0m, in \u001b[0;36mMNIST.__getitem__\u001b[1;34m(self, index)\u001b[0m\n\u001b[0;32m    143\u001b[0m img \u001b[38;5;241m=\u001b[39m Image\u001b[38;5;241m.\u001b[39mfromarray(img\u001b[38;5;241m.\u001b[39mnumpy(), mode\u001b[38;5;241m=\u001b[39m\u001b[38;5;124m\"\u001b[39m\u001b[38;5;124mL\u001b[39m\u001b[38;5;124m\"\u001b[39m)\n\u001b[0;32m    145\u001b[0m \u001b[38;5;28;01mif\u001b[39;00m \u001b[38;5;28mself\u001b[39m\u001b[38;5;241m.\u001b[39mtransform \u001b[38;5;129;01mis\u001b[39;00m \u001b[38;5;129;01mnot\u001b[39;00m \u001b[38;5;28;01mNone\u001b[39;00m:\n\u001b[1;32m--> 146\u001b[0m     img \u001b[38;5;241m=\u001b[39m \u001b[38;5;28;43mself\u001b[39;49m\u001b[38;5;241;43m.\u001b[39;49m\u001b[43mtransform\u001b[49m\u001b[43m(\u001b[49m\u001b[43mimg\u001b[49m\u001b[43m)\u001b[49m\n\u001b[0;32m    148\u001b[0m \u001b[38;5;28;01mif\u001b[39;00m \u001b[38;5;28mself\u001b[39m\u001b[38;5;241m.\u001b[39mtarget_transform \u001b[38;5;129;01mis\u001b[39;00m \u001b[38;5;129;01mnot\u001b[39;00m \u001b[38;5;28;01mNone\u001b[39;00m:\n\u001b[0;32m    149\u001b[0m     target \u001b[38;5;241m=\u001b[39m \u001b[38;5;28mself\u001b[39m\u001b[38;5;241m.\u001b[39mtarget_transform(target)\n",
      "File \u001b[1;32mc:\\myInstallations\\Lib\\site-packages\\torchvision\\transforms\\transforms.py:137\u001b[0m, in \u001b[0;36mToTensor.__call__\u001b[1;34m(self, pic)\u001b[0m\n\u001b[0;32m    129\u001b[0m \u001b[38;5;28;01mdef\u001b[39;00m \u001b[38;5;21m__call__\u001b[39m(\u001b[38;5;28mself\u001b[39m, pic):\n\u001b[0;32m    130\u001b[0m \u001b[38;5;250m    \u001b[39m\u001b[38;5;124;03m\"\"\"\u001b[39;00m\n\u001b[0;32m    131\u001b[0m \u001b[38;5;124;03m    Args:\u001b[39;00m\n\u001b[0;32m    132\u001b[0m \u001b[38;5;124;03m        pic (PIL Image or numpy.ndarray): Image to be converted to tensor.\u001b[39;00m\n\u001b[1;32m   (...)\u001b[0m\n\u001b[0;32m    135\u001b[0m \u001b[38;5;124;03m        Tensor: Converted image.\u001b[39;00m\n\u001b[0;32m    136\u001b[0m \u001b[38;5;124;03m    \"\"\"\u001b[39;00m\n\u001b[1;32m--> 137\u001b[0m     \u001b[38;5;28;01mreturn\u001b[39;00m \u001b[43mF\u001b[49m\u001b[38;5;241;43m.\u001b[39;49m\u001b[43mto_tensor\u001b[49m\u001b[43m(\u001b[49m\u001b[43mpic\u001b[49m\u001b[43m)\u001b[49m\n",
      "File \u001b[1;32mc:\\myInstallations\\Lib\\site-packages\\torchvision\\transforms\\functional.py:176\u001b[0m, in \u001b[0;36mto_tensor\u001b[1;34m(pic)\u001b[0m\n\u001b[0;32m    174\u001b[0m img \u001b[38;5;241m=\u001b[39m img\u001b[38;5;241m.\u001b[39mpermute((\u001b[38;5;241m2\u001b[39m, \u001b[38;5;241m0\u001b[39m, \u001b[38;5;241m1\u001b[39m))\u001b[38;5;241m.\u001b[39mcontiguous()\n\u001b[0;32m    175\u001b[0m \u001b[38;5;28;01mif\u001b[39;00m \u001b[38;5;28misinstance\u001b[39m(img, torch\u001b[38;5;241m.\u001b[39mByteTensor):\n\u001b[1;32m--> 176\u001b[0m     \u001b[38;5;28;01mreturn\u001b[39;00m \u001b[43mimg\u001b[49m\u001b[38;5;241;43m.\u001b[39;49m\u001b[43mto\u001b[49m\u001b[43m(\u001b[49m\u001b[43mdtype\u001b[49m\u001b[38;5;241;43m=\u001b[39;49m\u001b[43mdefault_float_dtype\u001b[49m\u001b[43m)\u001b[49m\u001b[38;5;241m.\u001b[39mdiv(\u001b[38;5;241m255\u001b[39m)\n\u001b[0;32m    177\u001b[0m \u001b[38;5;28;01melse\u001b[39;00m:\n\u001b[0;32m    178\u001b[0m     \u001b[38;5;28;01mreturn\u001b[39;00m img\n",
      "\u001b[1;31mKeyboardInterrupt\u001b[0m: "
     ]
    }
   ],
   "source": [
    "batch_size = 2048\n",
    "epochs = 450\n",
    "leraning_rate = 1e-1\n",
    "\n",
    "train_data_loader = DataLoader(train_data, batch_size=batch_size)\n",
    "test_data_loader = DataLoader(test_data, batch_size=batch_size)\n",
    "\n",
    "loss_fn = nn.CrossEntropyLoss()\n",
    "opti = torch.optim.SGD(model.parameters(), lr = leraning_rate)\n",
    "\n",
    "\n",
    "for _ in range(epochs):\n",
    "    s = time.time()\n",
    "    results.append(fit(model,train_data_loader, test_data_loader, loss_fn, opti, device))\n",
    "    e = time.time()\n",
    "    e = round(e - s, 3)\n",
    "    print(_, results[-1], e)\n",
    "results = np.array(results)"
   ]
  },
  {
   "cell_type": "code",
   "execution_count": 9,
   "metadata": {},
   "outputs": [],
   "source": [
    "results = np.array(results)"
   ]
  },
  {
   "cell_type": "code",
   "execution_count": 10,
   "metadata": {},
   "outputs": [
    {
     "data": {
      "image/png": "[encoded data removed]",
      "text/plain": [
       "<Figure size 640x480 with 1 Axes>"
      ]
     },
     "metadata": {},
     "output_type": "display_data"
    },
    {
     "data": {
      "image/png": "[encoded data removed]",
      "text/plain": [
       "<Figure size 640x480 with 1 Axes>"
      ]
     },
     "metadata": {},
     "output_type": "display_data"
    }
   ],
   "source": [
    "plt.plot(results[:,0], label = \"train_loss\")\n",
    "plt.plot(results[:,2], label = \"test_loss\")\n",
    "plt.legend()\n",
    "plt.show()\n",
    "\n",
    "plt.plot(results[:,1], label = \"train_accuracy\")\n",
    "plt.plot(results[:,3], label = \"test_accuracy\")\n",
    "plt.legend()\n",
    "plt.show()"
   ]
  },
  {
   "cell_type": "code",
   "execution_count": 11,
   "metadata": {},
   "outputs": [
    {
     "data": {
      "text/plain": [
       "array([[ 1.50378807, 96.09833333,  1.50752225, 95.57      ],\n",
       "       [ 1.50181304, 96.285     ,  1.50189199, 96.19      ],\n",
       "       [ 1.50073489, 96.375     ,  1.50122743, 96.22      ],\n",
       "       [ 1.49994986, 96.45166667,  1.50089152, 96.27      ],\n",
       "       [ 1.49932373, 96.51166667,  1.50041394, 96.34      ]])"
      ]
     },
     "execution_count": 11,
     "metadata": {},
     "output_type": "execute_result"
    }
   ],
   "source": [
    "results[-5:]"
   ]
  },
  {
   "cell_type": "code",
   "execution_count": 30,
   "metadata": {},
   "outputs": [
    {
     "name": "stdout",
     "output_type": "stream",
     "text": [
      "5 5\n"
     ]
    }
   ],
   "source": [
    "def random_test(model, i):\n",
    "    img, label = test_data[i]\n",
    "    img = torch.reshape(img, (1,1,28,28))\n",
    "    img = img.to(\"cuda\")\n",
    "    with torch.no_grad():\n",
    "        pred = model(img)\n",
    "        # print(pred)\n",
    "        print(pred.argmax(axis=1).item(), label)\n",
    "random_test(model, 5410)"
   ]
  },
  {
   "cell_type": "code",
   "execution_count": 39,
   "metadata": {},
   "outputs": [
    {
     "name": "stdout",
     "output_type": "stream",
     "text": [
      "torch.Size([16, 1, 3, 3]) 144\n",
      "torch.Size([16]) 16\n",
      "torch.Size([32, 16, 3, 3]) 4608\n",
      "torch.Size([32]) 32\n",
      "torch.Size([1024, 4608]) 4718592\n",
      "torch.Size([1024]) 1024\n",
      "torch.Size([128, 1024]) 131072\n",
      "torch.Size([128]) 128\n",
      "torch.Size([10, 128]) 1280\n",
      "torch.Size([10]) 10\n",
      "4856906\n"
     ]
    }
   ],
   "source": [
    "total_params = 0\n",
    "for p in model.parameters():\n",
    "    print(p.shape, p.numel())\n",
    "    total_params += p.numel()\n",
    "print(total_params)"
   ]
  },
  {
   "cell_type": "code",
   "execution_count": 41,
   "metadata": {},
   "outputs": [
    {
     "data": {
      "text/plain": [
       "10000"
      ]
     },
     "execution_count": 41,
     "metadata": {},
     "output_type": "execute_result"
    }
   ],
   "source": [
    "len(test_data)"
   ]
  },
  {
   "cell_type": "code",
   "execution_count": 42,
   "metadata": {},
   "outputs": [],
   "source": [
    "torch.save(model, \"CNN_BIG.pth\")"
   ]
  },
  {
   "cell_type": "code",
   "execution_count": null,
   "metadata": {},
   "outputs": [],
   "source": []
  }
 ],
 "metadata": {
  "kernelspec": {
   "display_name": "Python 3",
   "language": "python",
   "name": "python3"
  },
  "language_info": {
   "codemirror_mode": {
    "name": "ipython",
    "version": 3
   },
   "file_extension": ".py",
   "mimetype": "text/x-python",
   "name": "python",
   "nbconvert_exporter": "python",
   "pygments_lexer": "ipython3",
   "version": "3.12.3"
  }
 },
 "nbformat": 4,
 "nbformat_minor": 2
}
