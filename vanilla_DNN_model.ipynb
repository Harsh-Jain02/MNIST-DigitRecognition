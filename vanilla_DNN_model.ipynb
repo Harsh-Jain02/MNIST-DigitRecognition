{
 "cells": [
  {
   "cell_type": "code",
   "execution_count": 1,
   "metadata": {},
   "outputs": [],
   "source": [
    "import torch\n",
    "from torch import nn\n",
    "from torch.utils.data import DataLoader\n",
    "\n",
    "from torchvision import datasets\n",
    "from torchvision.transforms import ToTensor\n",
    "\n",
    "import numpy as np\n",
    "import matplotlib.pyplot as plt\n",
    "\n",
    "from tqdm import tqdm"
   ]
  },
  {
   "cell_type": "code",
   "execution_count": 2,
   "metadata": {},
   "outputs": [],
   "source": [
    "train_data = datasets.MNIST(\n",
    "    root = \"data\",\n",
    "    download = True,\n",
    "    train = True,\n",
    "    transform = ToTensor()    \n",
    ")\n",
    "test_data = datasets.MNIST(\n",
    "    root = \"data\",\n",
    "    download = True,\n",
    "    train = False,\n",
    "    transform = ToTensor()    \n",
    ")"
   ]
  },
  {
   "cell_type": "code",
   "execution_count": 3,
   "metadata": {},
   "outputs": [],
   "source": [
    "def train(model, data, loss_fn, opti, device):\n",
    "    model.train()\n",
    "    num_batches = len(data)\n",
    "    loss = 0\n",
    "\n",
    "    for X, y in data:\n",
    "        X, y = X.to(device), y.to(device)\n",
    "        y_hat = model(X)\n",
    "\n",
    "        L = loss_fn(y_hat, y)\n",
    "        loss += L.item()\n",
    "        L.backward()\n",
    "        \n",
    "        opti.step()\n",
    "        opti.zero_grad()\n",
    "    return loss/num_batches\n",
    "\n",
    "def test(model, data, loss_fn, device):\n",
    "    model.eval()\n",
    "    loss = 0\n",
    "    num_batch = len(data)\n",
    "    with torch.no_grad():\n",
    "        for X, y in data:\n",
    "            X, y = X.to(device), y.to(device)\n",
    "            loss += loss_fn(model(X), y).item()\n",
    "    return loss/num_batch"
   ]
  },
  {
   "cell_type": "code",
   "execution_count": 6,
   "metadata": {},
   "outputs": [
    {
     "name": "stdout",
     "output_type": "stream",
     "text": [
      "Model(\n",
      "  (flat): Flatten(start_dim=1, end_dim=-1)\n",
      "  (module): Sequential(\n",
      "    (0): Linear(in_features=784, out_features=512, bias=True)\n",
      "    (1): ReLU()\n",
      "    (2): Linear(in_features=512, out_features=128, bias=True)\n",
      "    (3): ReLU()\n",
      "    (4): Linear(in_features=128, out_features=10, bias=True)\n",
      "    (5): Softmax(dim=None)\n",
      "  )\n",
      ")\n"
     ]
    }
   ],
   "source": [
    "class Model(nn.Module):\n",
    "    def __init__(self):\n",
    "        super().__init__()\n",
    "        self.flat = nn.Flatten()\n",
    "        self.module = nn.Sequential(\n",
    "            nn.Linear(28*28, 512),\n",
    "            nn.ReLU(),\n",
    "            nn.Linear(512,128),\n",
    "            nn.ReLU(),\n",
    "            nn.Linear(128, 10),\n",
    "            nn.Softmax()\n",
    "        )\n",
    "\n",
    "    def forward(self, x):\n",
    "        return self.module(self.flat(x))\n",
    "\n",
    "\n",
    "device = \"cuda\"\n",
    "model = Model().to(device)\n",
    "print(model)"
   ]
  },
  {
   "cell_type": "code",
   "execution_count": null,
   "metadata": {},
   "outputs": [],
   "source": [
    "train_loss = []\n",
    "test_loss = []"
   ]
  },
  {
   "cell_type": "code",
   "execution_count": 15,
   "metadata": {},
   "outputs": [],
   "source": [
    "import time"
   ]
  },
  {
   "cell_type": "code",
   "execution_count": 18,
   "metadata": {},
   "outputs": [
    {
     "name": "stderr",
     "output_type": "stream",
     "text": [
      "c:\\myInstallations\\Lib\\site-packages\\torch\\nn\\modules\\module.py:1532: UserWarning: Implicit dimension choice for softmax has been deprecated. Change the call to include dim=X as an argument.\n",
      "  return self._call_impl(*args, **kwargs)\n"
     ]
    },
    {
     "name": "stdout",
     "output_type": "stream",
     "text": [
      "0 1.6275 1.6232 7.896\n",
      "1 1.6275 1.6231 7.698\n",
      "2 1.6274 1.6231 7.727\n",
      "3 1.6274 1.623 7.6\n",
      "4 1.6273 1.623 7.551\n",
      "5 1.6273 1.6229 7.622\n",
      "6 1.6272 1.6229 7.575\n",
      "7 1.6271 1.6228 7.557\n",
      "8 1.6271 1.6228 7.527\n",
      "9 1.627 1.6228 7.644\n",
      "10 1.627 1.6227 7.541\n",
      "11 1.6269 1.6227 7.581\n",
      "12 1.6269 1.6226 7.55\n",
      "13 1.6268 1.6226 7.632\n",
      "14 1.6268 1.6225 7.543\n",
      "15 1.6267 1.6225 7.547\n",
      "16 1.6267 1.6224 7.528\n",
      "17 1.6266 1.6224 7.631\n",
      "18 1.6265 1.6223 7.538\n",
      "19 1.6265 1.6223 7.549\n",
      "20 1.6264 1.6222 7.562\n",
      "21 1.6264 1.6222 7.638\n",
      "22 1.6263 1.6221 7.53\n",
      "23 1.6263 1.6221 7.542\n",
      "24 1.6262 1.6221 7.536\n",
      "25 1.6262 1.622 7.662\n",
      "26 1.6261 1.622 7.562\n",
      "27 1.6261 1.6219 7.562\n",
      "28 1.626 1.6219 7.534\n",
      "29 1.626 1.6218 7.659\n",
      "30 1.6259 1.6218 7.559\n",
      "31 1.6259 1.6217 7.547\n",
      "32 1.6258 1.6217 7.559\n",
      "33 1.6258 1.6216 7.644\n",
      "34 1.6257 1.6216 7.541\n",
      "35 1.6257 1.6216 7.562\n",
      "36 1.6256 1.6215 7.638\n",
      "37 1.6256 1.6215 7.555\n",
      "38 1.6255 1.6214 7.544\n",
      "39 1.6255 1.6214 7.563\n",
      "40 1.6254 1.6213 7.643\n",
      "41 1.6254 1.6213 7.559\n",
      "42 1.6253 1.6213 7.54\n",
      "43 1.6253 1.6212 7.619\n",
      "44 1.6252 1.6212 7.65\n",
      "45 1.6252 1.6211 7.584\n",
      "46 1.6251 1.6211 7.562\n",
      "47 1.6251 1.621 7.572\n",
      "48 1.625 1.621 7.665\n",
      "49 1.625 1.621 7.563\n",
      "50 1.6249 1.6209 7.578\n",
      "51 1.6249 1.6209 7.563\n",
      "52 1.6248 1.6208 7.631\n",
      "53 1.6248 1.6208 7.528\n",
      "54 1.6247 1.6208 7.624\n",
      "55 1.6247 1.6207 7.641\n",
      "56 1.6246 1.6207 7.609\n",
      "57 1.6246 1.6206 7.526\n",
      "58 1.6245 1.6206 7.537\n",
      "59 1.6245 1.6206 7.609\n",
      "60 1.6245 1.6205 7.5\n",
      "61 1.6244 1.6205 7.614\n",
      "62 1.6244 1.6204 7.529\n",
      "63 1.6243 1.6204 7.547\n",
      "64 1.6243 1.6203 7.6\n",
      "65 1.6242 1.6203 7.563\n",
      "66 1.6242 1.6203 7.522\n",
      "67 1.6241 1.6202 7.599\n",
      "68 1.6241 1.6202 7.614\n",
      "69 1.624 1.6202 7.627\n",
      "70 1.624 1.6201 7.588\n",
      "71 1.6239 1.6201 7.695\n",
      "72 1.6239 1.62 7.582\n",
      "73 1.6239 1.62 7.489\n",
      "74 1.6238 1.62 7.459\n",
      "75 1.6238 1.6199 7.532\n",
      "76 1.6237 1.6199 7.46\n",
      "77 1.6237 1.6198 7.44\n",
      "78 1.6236 1.6198 7.424\n",
      "79 1.6236 1.6198 7.525\n",
      "80 1.6235 1.6197 7.454\n",
      "81 1.6235 1.6197 7.476\n",
      "82 1.6235 1.6196 7.462\n",
      "83 1.6234 1.6196 7.527\n",
      "84 1.6234 1.6196 7.442\n",
      "85 1.6233 1.6195 7.447\n",
      "86 1.6233 1.6195 7.535\n",
      "87 1.6232 1.6195 7.437\n",
      "88 1.6232 1.6194 7.455\n",
      "89 1.6232 1.6194 7.454\n",
      "90 1.6231 1.6194 7.537\n",
      "91 1.6231 1.6193 7.444\n",
      "92 1.623 1.6193 7.429\n",
      "93 1.623 1.6192 7.441\n",
      "94 1.6229 1.6192 7.542\n",
      "95 1.6229 1.6192 7.449\n",
      "96 1.6229 1.6191 7.434\n",
      "97 1.6228 1.6191 7.453\n",
      "98 1.6228 1.6191 7.518\n",
      "99 1.6227 1.619 7.526\n",
      "100 1.6227 1.619 7.594\n",
      "101 1.6226 1.619 7.536\n",
      "102 1.6226 1.6189 7.646\n",
      "103 1.6226 1.6189 7.521\n",
      "104 1.6225 1.6188 7.577\n",
      "105 1.6225 1.6188 8.261\n",
      "106 1.6224 1.6188 8.69\n",
      "107 1.6224 1.6187 7.836\n",
      "108 1.6224 1.6187 7.822\n",
      "109 1.6223 1.6187 8.297\n",
      "110 1.6223 1.6186 9.188\n",
      "111 1.6222 1.6186 9.426\n",
      "112 1.6222 1.6186 7.997\n",
      "113 1.6222 1.6185 8.446\n",
      "114 1.6221 1.6185 7.767\n",
      "115 1.6221 1.6185 7.826\n",
      "116 1.622 1.6184 7.751\n",
      "117 1.622 1.6184 7.678\n",
      "118 1.622 1.6184 7.971\n",
      "119 1.6219 1.6183 7.76\n",
      "120 1.6219 1.6183 7.524\n",
      "121 1.6218 1.6183 8.091\n",
      "122 1.6218 1.6182 8.018\n",
      "123 1.6218 1.6182 7.616\n",
      "124 1.6217 1.6182 8.411\n",
      "125 1.6217 1.6181 8.213\n",
      "126 1.6216 1.6181 7.801\n",
      "127 1.6216 1.6181 7.747\n",
      "128 1.6216 1.618 8.264\n",
      "129 1.6215 1.618 8.564\n",
      "130 1.6215 1.618 7.62\n",
      "131 1.6214 1.6179 8.016\n",
      "132 1.6214 1.6179 7.645\n",
      "133 1.6214 1.6179 7.634\n",
      "134 1.6213 1.6178 7.541\n",
      "135 1.6213 1.6178 7.642\n",
      "136 1.6213 1.6178 7.527\n",
      "137 1.6212 1.6177 7.592\n",
      "138 1.6212 1.6177 7.54\n",
      "139 1.6211 1.6177 7.504\n",
      "140 1.6211 1.6176 7.628\n",
      "141 1.6211 1.6176 7.517\n",
      "142 1.621 1.6176 7.682\n",
      "143 1.621 1.6175 7.537\n",
      "144 1.621 1.6175 7.613\n",
      "145 1.6209 1.6175 7.532\n",
      "146 1.6209 1.6174 7.534\n",
      "147 1.6208 1.6174 7.525\n",
      "148 1.6208 1.6174 7.625\n",
      "149 1.6208 1.6173 7.544\n"
     ]
    }
   ],
   "source": [
    "batch_size = 1024\n",
    "epochs = 150\n",
    "leraning_rate = 5e-3\n",
    "\n",
    "train_data_loader = DataLoader(train_data, batch_size=batch_size)\n",
    "test_data_loader = DataLoader(test_data, batch_size=batch_size)\n",
    "\n",
    "loss_fn = nn.CrossEntropyLoss()\n",
    "opti = torch.optim.SGD(model.parameters(), lr = leraning_rate)\n",
    "\n",
    "\n",
    "for _ in range(epochs):\n",
    "    s = time.time()\n",
    "    train_loss.append(train(model, train_data_loader, loss_fn, opti,device))\n",
    "    test_loss.append(test(model, test_data_loader, loss_fn, device))\n",
    "    e = time.time()\n",
    "    e = round(e - s, 3)\n",
    "    print(_, round(train_loss[-1],4), round(test_loss[-1],4), e)"
   ]
  },
  {
   "cell_type": "code",
   "execution_count": 20,
   "metadata": {},
   "outputs": [
    {
     "data": {
      "image/png": "[encoded data removed]",
      "text/plain": [
       "<Figure size 640x480 with 1 Axes>"
      ]
     },
     "metadata": {},
     "output_type": "display_data"
    }
   ],
   "source": [
    "plt.plot(train_loss)\n",
    "plt.plot(test_loss)\n",
    "plt.show()"
   ]
  },
  {
   "cell_type": "code",
   "execution_count": 21,
   "metadata": {},
   "outputs": [],
   "source": [
    "def accuracy(model, data, device):\n",
    "    model.eval()\n",
    "    ok = 0\n",
    "    total = 0\n",
    "    with torch.no_grad():\n",
    "        for X, y in data:\n",
    "            X, y = X.to(device), y.to(device)\n",
    "            y_hat = model(X)\n",
    "            total += y.shape[0]\n",
    "            ok += (y_hat.argmax(1) == y).type(torch.float).sum().item()\n",
    "    return ok/total"
   ]
  },
  {
   "cell_type": "code",
   "execution_count": 23,
   "metadata": {},
   "outputs": [
    {
     "name": "stderr",
     "output_type": "stream",
     "text": [
      "c:\\myInstallations\\Lib\\site-packages\\torch\\nn\\modules\\module.py:1532: UserWarning: Implicit dimension choice for softmax has been deprecated. Change the call to include dim=X as an argument.\n",
      "  return self._call_impl(*args, **kwargs)\n"
     ]
    },
    {
     "data": {
      "text/plain": [
       "0.8471166666666666"
      ]
     },
     "execution_count": 23,
     "metadata": {},
     "output_type": "execute_result"
    }
   ],
   "source": [
    "accuracy(model, train_data_loader, device)"
   ]
  },
  {
   "cell_type": "code",
   "execution_count": 24,
   "metadata": {},
   "outputs": [
    {
     "name": "stderr",
     "output_type": "stream",
     "text": [
      "c:\\myInstallations\\Lib\\site-packages\\torch\\nn\\modules\\module.py:1532: UserWarning: Implicit dimension choice for softmax has been deprecated. Change the call to include dim=X as an argument.\n",
      "  return self._call_impl(*args, **kwargs)\n"
     ]
    },
    {
     "data": {
      "text/plain": [
       "0.8491"
      ]
     },
     "execution_count": 24,
     "metadata": {},
     "output_type": "execute_result"
    }
   ],
   "source": [
    "accuracy(model, test_data_loader, device)"
   ]
  },
  {
   "cell_type": "code",
   "execution_count": 12,
   "metadata": {},
   "outputs": [],
   "source": [
    "! shutdown /h"
   ]
  }
 ],
 "metadata": {
  "kernelspec": {
   "display_name": "Python 3",
   "language": "python",
   "name": "python3"
  },
  "language_info": {
   "codemirror_mode": {
    "name": "ipython",
    "version": 3
   },
   "file_extension": ".py",
   "mimetype": "text/x-python",
   "name": "python",
   "nbconvert_exporter": "python",
   "pygments_lexer": "ipython3",
   "version": "3.12.3"
  }
 },
 "nbformat": 4,
 "nbformat_minor": 2
}
